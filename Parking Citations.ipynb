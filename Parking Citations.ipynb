{
 "cells": [
  {
   "cell_type": "code",
   "execution_count": 1,
   "id": "c278eb40-7552-4ac3-9761-4cb4d2303e20",
   "metadata": {
    "tags": []
   },
   "outputs": [],
   "source": [
    "import pandas as pd\n",
    "df = pd.read_csv('Parking_Citations.csv')"
   ]
  },
  {
   "cell_type": "code",
   "execution_count": 4,
   "id": "093751c4-d755-4f62-9f69-8191ede60d28",
   "metadata": {
    "tags": []
   },
   "outputs": [
    {
     "data": {
      "text/html": [
       "<div>\n",
       "<style scoped>\n",
       "    .dataframe tbody tr th:only-of-type {\n",
       "        vertical-align: middle;\n",
       "    }\n",
       "\n",
       "    .dataframe tbody tr th {\n",
       "        vertical-align: top;\n",
       "    }\n",
       "\n",
       "    .dataframe thead th {\n",
       "        text-align: right;\n",
       "    }\n",
       "</style>\n",
       "<table border=\"1\" class=\"dataframe\">\n",
       "  <thead>\n",
       "    <tr style=\"text-align: right;\">\n",
       "      <th></th>\n",
       "      <th>ticket_number</th>\n",
       "      <th>issue_date</th>\n",
       "      <th>issue_time</th>\n",
       "      <th>meter_id</th>\n",
       "      <th>marked_time</th>\n",
       "      <th>rp_state_plate</th>\n",
       "      <th>plate_expiry_date</th>\n",
       "      <th>vin</th>\n",
       "      <th>make</th>\n",
       "      <th>body_style</th>\n",
       "      <th>...</th>\n",
       "      <th>violation_description</th>\n",
       "      <th>fine_amount</th>\n",
       "      <th>agency_desc</th>\n",
       "      <th>color_desc</th>\n",
       "      <th>body_style_desc</th>\n",
       "      <th>loc_lat</th>\n",
       "      <th>loc_long</th>\n",
       "      <th>month</th>\n",
       "      <th>year</th>\n",
       "      <th>month_year</th>\n",
       "    </tr>\n",
       "  </thead>\n",
       "  <tbody>\n",
       "    <tr>\n",
       "      <th>0</th>\n",
       "      <td>4583666032</td>\n",
       "      <td>2024-05-01</td>\n",
       "      <td>739</td>\n",
       "      <td>NaN</td>\n",
       "      <td>0</td>\n",
       "      <td>AZ</td>\n",
       "      <td>0</td>\n",
       "      <td>NaN</td>\n",
       "      <td>GEN</td>\n",
       "      <td>PA</td>\n",
       "      <td>...</td>\n",
       "      <td>NO PARKING</td>\n",
       "      <td>73</td>\n",
       "      <td>54 - DOT - HOLLYWOOD</td>\n",
       "      <td>GREY</td>\n",
       "      <td>PASSENGER CAR</td>\n",
       "      <td>34.074022</td>\n",
       "      <td>-118.374131</td>\n",
       "      <td>5</td>\n",
       "      <td>2024</td>\n",
       "      <td>2024-05</td>\n",
       "    </tr>\n",
       "  </tbody>\n",
       "</table>\n",
       "<p>1 rows × 25 columns</p>\n",
       "</div>"
      ],
      "text/plain": [
       "   ticket_number issue_date  issue_time meter_id  marked_time rp_state_plate  \\\n",
       "0     4583666032 2024-05-01         739      NaN            0             AZ   \n",
       "\n",
       "   plate_expiry_date  vin make body_style  ... violation_description  \\\n",
       "0                  0  NaN  GEN         PA  ...            NO PARKING   \n",
       "\n",
       "  fine_amount           agency_desc  color_desc body_style_desc    loc_lat  \\\n",
       "0          73  54 - DOT - HOLLYWOOD        GREY   PASSENGER CAR  34.074022   \n",
       "\n",
       "     loc_long month  year month_year  \n",
       "0 -118.374131     5  2024    2024-05  \n",
       "\n",
       "[1 rows x 25 columns]"
      ]
     },
     "execution_count": 4,
     "metadata": {},
     "output_type": "execute_result"
    }
   ],
   "source": [
    "df.head(1)"
   ]
  },
  {
   "cell_type": "code",
   "execution_count": 5,
   "id": "6fcc3df1-8dce-4259-b7da-a4936d5b501a",
   "metadata": {
    "tags": []
   },
   "outputs": [
    {
     "data": {
      "text/plain": [
       "ticket_number                     int64\n",
       "issue_date               datetime64[ns]\n",
       "issue_time                        int64\n",
       "meter_id                         object\n",
       "marked_time                       int64\n",
       "rp_state_plate                   object\n",
       "plate_expiry_date                 int64\n",
       "vin                             float64\n",
       "make                             object\n",
       "body_style                       object\n",
       "color                            object\n",
       "location                         object\n",
       "route                            object\n",
       "agency                            int64\n",
       "violation_code                   object\n",
       "violation_description            object\n",
       "fine_amount                       int64\n",
       "agency_desc                      object\n",
       "color_desc                       object\n",
       "body_style_desc                  object\n",
       "loc_lat                         float64\n",
       "loc_long                        float64\n",
       "month                             int32\n",
       "year                              int32\n",
       "month_year                       object\n",
       "dtype: object"
      ]
     },
     "execution_count": 5,
     "metadata": {},
     "output_type": "execute_result"
    }
   ],
   "source": [
    "df.dtypes\n"
   ]
  },
  {
   "cell_type": "code",
   "execution_count": 3,
   "id": "d828e844-0bbb-4ceb-81d6-2938a556f604",
   "metadata": {
    "tags": []
   },
   "outputs": [
    {
     "name": "stderr",
     "output_type": "stream",
     "text": [
      "C:\\Users\\jerry\\AppData\\Local\\Temp\\ipykernel_7360\\1734359749.py:1: UserWarning: Could not infer format, so each element will be parsed individually, falling back to `dateutil`. To ensure parsing is consistent and as-expected, please specify a format.\n",
      "  df['issue_date'] = pd.to_datetime(df['issue_date'])\n"
     ]
    }
   ],
   "source": [
    "df['issue_date'] = pd.to_datetime(df['issue_date'])\n",
    "\n",
    "# Extract month and year\n",
    "df['month'] = df['issue_date'].dt.month\n",
    "df['year'] = df['issue_date'].dt.year\n",
    "\n",
    "# If you want a single column with \"month-year\" format\n",
    "df['month_year'] = df['issue_date'].dt.to_period('M').astype(str)"
   ]
  },
  {
   "cell_type": "code",
   "execution_count": 8,
   "id": "ae787875-7740-40e0-8c5b-42ddfed41d3a",
   "metadata": {
    "tags": []
   },
   "outputs": [
    {
     "name": "stdout",
     "output_type": "stream",
     "text": [
      "       ticket_number issue_date  issue_time meter_id  marked_time  \\\n",
      "0         4583666032 2024-05-01         739      NaN            0   \n",
      "1         4583652754 2024-05-01        2312      NaN            0   \n",
      "2         4583652835 2024-05-01        2346      NaN            0   \n",
      "3         4583926830 2024-05-01         745      NaN            0   \n",
      "4         4583892880 2024-05-01        2304      NaN            0   \n",
      "...              ...        ...         ...      ...          ...   \n",
      "59410     4583664013 2024-05-12         854      NaN            0   \n",
      "59411     4584353955 2024-05-12        1107    SV261            0   \n",
      "59412     4584495510 2024-05-12         833      NaN            0   \n",
      "59413     4583664072 2024-05-12        1148      NaN            0   \n",
      "59414     4584050015 2024-05-12         835      NaN            0   \n",
      "\n",
      "      rp_state_plate  plate_expiry_date  vin  make body_style  ...  \\\n",
      "0                 AZ                  0  NaN   GEN         PA  ...   \n",
      "1                 CA             202503  NaN  FORD         PA  ...   \n",
      "2                 CA             202406  NaN  FORD         PA  ...   \n",
      "3                 WA             202404  NaN  MAZD         PA  ...   \n",
      "4                 CA             202209  NaN  HOND         PA  ...   \n",
      "...              ...                ...  ...   ...        ...  ...   \n",
      "59410             CA             202501  NaN  MERZ         PA  ...   \n",
      "59411             CA             202410  NaN  FORD         PA  ...   \n",
      "59412             CA             202407  NaN  MERZ         PA  ...   \n",
      "59413             CA                  0  NaN   NaN         PA  ...   \n",
      "59414             CA             202308  NaN  CHEV         PA  ...   \n",
      "\n",
      "      violation_description fine_amount           agency_desc  color_desc  \\\n",
      "0                NO PARKING          73  54 - DOT - HOLLYWOOD        GREY   \n",
      "1       STOP/STAND PROHIBIT          93     53 - DOT - VALLEY       WHITE   \n",
      "2         DISPLAY OF PLATES          25     53 - DOT - VALLEY       BLACK   \n",
      "3                  RED ZONE          93  54 - DOT - HOLLYWOOD       WHITE   \n",
      "4                NO PARKING          73     53 - DOT - VALLEY        GREY   \n",
      "...                     ...         ...                   ...         ...   \n",
      "59410                   NaN           0    56 - DOT - CENTRAL       BLACK   \n",
      "59411                   NaN           0  54 - DOT - HOLLYWOOD        GREY   \n",
      "59412                   NaN           0  54 - DOT - HOLLYWOOD      SILVER   \n",
      "59413                   NaN           0    56 - DOT - CENTRAL         NaN   \n",
      "59414                   NaN           0    51 - DOT - WESTERN      ORANGE   \n",
      "\n",
      "      body_style_desc    loc_lat    loc_long month  year month_year  \n",
      "0       PASSENGER CAR  34.074022 -118.374131     5  2024    2024-05  \n",
      "1       PASSENGER CAR  34.215528 -118.466420     5  2024    2024-05  \n",
      "2       PASSENGER CAR  34.231169 -118.467787     5  2024    2024-05  \n",
      "3       PASSENGER CAR  34.105209 -118.323118     5  2024    2024-05  \n",
      "4       PASSENGER CAR  34.182671 -118.461216     5  2024    2024-05  \n",
      "...               ...        ...         ...   ...   ...        ...  \n",
      "59410   PASSENGER CAR  33.987071 -118.456022     5  2024    2024-05  \n",
      "59411   PASSENGER CAR  34.096336 -118.329865     5  2024    2024-05  \n",
      "59412   PASSENGER CAR  34.070490 -118.285670     5  2024    2024-05  \n",
      "59413   PASSENGER CAR  34.048893 -118.253686     5  2024    2024-05  \n",
      "59414   PASSENGER CAR  34.052256 -118.478128     5  2024    2024-05  \n",
      "\n",
      "[59415 rows x 25 columns]\n"
     ]
    }
   ],
   "source": [
    "import pandas as pd\n",
    "year1 = 2024\n",
    "year2 = 2024\n",
    "print(df[(df['year'] >= year1) & (df['year'] <= year2)])"
   ]
  },
  {
   "cell_type": "code",
   "execution_count": 9,
   "id": "c71329b0-5a5c-425f-a945-7781137d32f5",
   "metadata": {},
   "outputs": [
    {
     "data": {
      "text/plain": [
       "pandas.core.frame.DataFrame"
      ]
     },
     "execution_count": 9,
     "metadata": {},
     "output_type": "execute_result"
    }
   ],
   "source": [
    "year_counts = df.groupby('year').size()\n",
    "year_counts = year_counts.to_frame()\n",
    "year_counts = year_counts.reset_index()\n",
    "year_counts.columns = ['year', 'count']\n",
    "type(year_counts)"
   ]
  },
  {
   "cell_type": "code",
   "execution_count": 14,
   "id": "ef6f03d3-cb8d-4b4f-a847-774141a2c681",
   "metadata": {
    "tags": []
   },
   "outputs": [
    {
     "data": {
      "text/plain": [
       "pandas.core.frame.DataFrame"
      ]
     },
     "execution_count": 14,
     "metadata": {},
     "output_type": "execute_result"
    }
   ],
   "source": [
    "month_counts = df.groupby('month').size()\n",
    "month_counts = month_counts.to_frame()\n",
    "month_counts = month_counts.reset_index()\n",
    "month_counts.columns = ['month', 'count']\n",
    "type(month_counts)"
   ]
  },
  {
   "cell_type": "code",
   "execution_count": 15,
   "id": "d0126273-af97-4897-a180-251f9e776a3a",
   "metadata": {
    "tags": []
   },
   "outputs": [
    {
     "data": {
      "text/html": [
       "<div>\n",
       "<style scoped>\n",
       "    .dataframe tbody tr th:only-of-type {\n",
       "        vertical-align: middle;\n",
       "    }\n",
       "\n",
       "    .dataframe tbody tr th {\n",
       "        vertical-align: top;\n",
       "    }\n",
       "\n",
       "    .dataframe thead th {\n",
       "        text-align: right;\n",
       "    }\n",
       "</style>\n",
       "<table border=\"1\" class=\"dataframe\">\n",
       "  <thead>\n",
       "    <tr style=\"text-align: right;\">\n",
       "      <th></th>\n",
       "      <th>month</th>\n",
       "      <th>count</th>\n",
       "    </tr>\n",
       "  </thead>\n",
       "  <tbody>\n",
       "    <tr>\n",
       "      <th>0</th>\n",
       "      <td>5</td>\n",
       "      <td>59415</td>\n",
       "    </tr>\n",
       "  </tbody>\n",
       "</table>\n",
       "</div>"
      ],
      "text/plain": [
       "   month  count\n",
       "0      5  59415"
      ]
     },
     "execution_count": 15,
     "metadata": {},
     "output_type": "execute_result"
    }
   ],
   "source": [
    "month_counts"
   ]
  },
  {
   "cell_type": "code",
   "execution_count": 16,
   "id": "ece55a22-763d-4d64-9991-cb811fceaab9",
   "metadata": {
    "tags": []
   },
   "outputs": [
    {
     "data": {
      "text/html": [
       "<div>\n",
       "<style scoped>\n",
       "    .dataframe tbody tr th:only-of-type {\n",
       "        vertical-align: middle;\n",
       "    }\n",
       "\n",
       "    .dataframe tbody tr th {\n",
       "        vertical-align: top;\n",
       "    }\n",
       "\n",
       "    .dataframe thead th {\n",
       "        text-align: right;\n",
       "    }\n",
       "</style>\n",
       "<table border=\"1\" class=\"dataframe\">\n",
       "  <thead>\n",
       "    <tr style=\"text-align: right;\">\n",
       "      <th></th>\n",
       "      <th>year</th>\n",
       "      <th>count</th>\n",
       "    </tr>\n",
       "  </thead>\n",
       "  <tbody>\n",
       "    <tr>\n",
       "      <th>0</th>\n",
       "      <td>2024</td>\n",
       "      <td>59415</td>\n",
       "    </tr>\n",
       "  </tbody>\n",
       "</table>\n",
       "</div>"
      ],
      "text/plain": [
       "   year  count\n",
       "0  2024  59415"
      ]
     },
     "execution_count": 16,
     "metadata": {},
     "output_type": "execute_result"
    }
   ],
   "source": [
    "year_counts"
   ]
  },
  {
   "cell_type": "code",
   "execution_count": null,
   "id": "cb110e2e-7a6d-4c6d-8f64-cabddd2abd4d",
   "metadata": {},
   "outputs": [],
   "source": []
  }
 ],
 "metadata": {
  "kernelspec": {
   "display_name": "Python 3 (ipykernel)",
   "language": "python",
   "name": "python3"
  },
  "language_info": {
   "codemirror_mode": {
    "name": "ipython",
    "version": 3
   },
   "file_extension": ".py",
   "mimetype": "text/x-python",
   "name": "python",
   "nbconvert_exporter": "python",
   "pygments_lexer": "ipython3",
   "version": "3.11.5"
  }
 },
 "nbformat": 4,
 "nbformat_minor": 5
}
