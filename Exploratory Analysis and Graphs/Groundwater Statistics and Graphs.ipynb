{
 "cells": [
  {
   "cell_type": "markdown",
   "id": "bb4c64e6-8e00-4a7c-b4de-7d1e82adaa7e",
   "metadata": {},
   "source": [
    "# Dependencies"
   ]
  },
  {
   "cell_type": "code",
   "execution_count": 1,
   "id": "91889670-8972-48f0-b9ee-a269a49ed3ca",
   "metadata": {
    "tags": []
   },
   "outputs": [],
   "source": [
    "import pandas as pd"
   ]
  },
  {
   "cell_type": "code",
   "execution_count": 2,
   "id": "c278eb40-7552-4ac3-9761-4cb4d2303e20",
   "metadata": {
    "tags": []
   },
   "outputs": [
    {
     "name": "stderr",
     "output_type": "stream",
     "text": [
      "C:\\Users\\jerry\\AppData\\Local\\Temp\\ipykernel_11096\\661244285.py:1: DtypeWarning: Columns (14) have mixed types. Specify dtype option on import or set low_memory=False.\n",
      "  measurements_df = pd.read_csv('../Resources/measurements.csv')\n",
      "C:\\Users\\jerry\\AppData\\Local\\Temp\\ipykernel_11096\\661244285.py:3: DtypeWarning: Columns (4) have mixed types. Specify dtype option on import or set low_memory=False.\n",
      "  stations_df = pd.read_csv('../Resources/stations.csv')\n"
     ]
    }
   ],
   "source": []
  },
  {
   "cell_type": "markdown",
   "id": "048e2ca2-810d-41f5-b79f-78357b42d888",
   "metadata": {},
   "source": [
    "# Metadata (Data Dictionary)"
   ]
  },
  {
   "cell_type": "markdown",
   "id": "7af9ead8-6e69-49e3-bf43-cbb2fb8c8426",
   "metadata": {},
   "source": [
    "### Import Metadata"
   ]
  },
  {
   "cell_type": "code",
   "execution_count": 3,
   "id": "fc8a11e3-7383-4d2c-a3b3-2b96b81ae3f1",
   "metadata": {
    "tags": []
   },
   "outputs": [],
   "source": [
    "DataDictionary_measurements_df = pd.read_csv('../Metadata/DataDictionary_measurements.csv')\n",
    "DataDictionary_measurements_df['table'] = 'measurements'\n",
    "\n",
    "DataDictionary_perforations_df = pd.read_csv('../Metadata/DataDictionary_perforations.csv')\n",
    "DataDictionary_perforations_df['table'] = 'perforations'\n",
    "\n",
    "DataDictionary_stations_df = pd.read_csv('../Metadata/DataDictionary_stations.csv')\n",
    "DataDictionary_stations_df['table'] = 'stations'"
   ]
  },
  {
   "cell_type": "markdown",
   "id": "5ca14904-3f0f-4952-a3b7-2b0dd4412276",
   "metadata": {},
   "source": [
    "### Combine and Display Metadata for stations"
   ]
  },
  {
   "cell_type": "code",
   "execution_count": 8,
   "id": "b715e605-bd74-454a-96ab-976169512f41",
   "metadata": {
    "tags": []
   },
   "outputs": [
    {
     "data": {
      "text/html": [
       "<div>\n",
       "<style scoped>\n",
       "    .dataframe tbody tr th:only-of-type {\n",
       "        vertical-align: middle;\n",
       "    }\n",
       "\n",
       "    .dataframe tbody tr th {\n",
       "        vertical-align: top;\n",
       "    }\n",
       "\n",
       "    .dataframe thead th {\n",
       "        text-align: right;\n",
       "    }\n",
       "</style>\n",
       "<table border=\"1\" class=\"dataframe\">\n",
       "  <thead>\n",
       "    <tr style=\"text-align: right;\">\n",
       "      <th></th>\n",
       "      <th>Unnamed: 0</th>\n",
       "      <th>column</th>\n",
       "      <th>type</th>\n",
       "      <th>label</th>\n",
       "      <th>description</th>\n",
       "      <th>table</th>\n",
       "    </tr>\n",
       "  </thead>\n",
       "  <tbody>\n",
       "    <tr>\n",
       "      <th>0</th>\n",
       "      <td>0</td>\n",
       "      <td>_id</td>\n",
       "      <td>int</td>\n",
       "      <td>NaN</td>\n",
       "      <td>NaN</td>\n",
       "      <td>stations</td>\n",
       "    </tr>\n",
       "    <tr>\n",
       "      <th>1</th>\n",
       "      <td>1</td>\n",
       "      <td>site_code</td>\n",
       "      <td>text</td>\n",
       "      <td>NaN</td>\n",
       "      <td>NaN</td>\n",
       "      <td>stations</td>\n",
       "    </tr>\n",
       "    <tr>\n",
       "      <th>2</th>\n",
       "      <td>2</td>\n",
       "      <td>stn_id</td>\n",
       "      <td>text</td>\n",
       "      <td>NaN</td>\n",
       "      <td>NaN</td>\n",
       "      <td>stations</td>\n",
       "    </tr>\n",
       "    <tr>\n",
       "      <th>3</th>\n",
       "      <td>3</td>\n",
       "      <td>swn</td>\n",
       "      <td>text</td>\n",
       "      <td>NaN</td>\n",
       "      <td>NaN</td>\n",
       "      <td>stations</td>\n",
       "    </tr>\n",
       "    <tr>\n",
       "      <th>4</th>\n",
       "      <td>4</td>\n",
       "      <td>well_name</td>\n",
       "      <td>text</td>\n",
       "      <td>NaN</td>\n",
       "      <td>NaN</td>\n",
       "      <td>stations</td>\n",
       "    </tr>\n",
       "    <tr>\n",
       "      <th>5</th>\n",
       "      <td>5</td>\n",
       "      <td>continuous_data_station_number</td>\n",
       "      <td>text</td>\n",
       "      <td>NaN</td>\n",
       "      <td>NaN</td>\n",
       "      <td>stations</td>\n",
       "    </tr>\n",
       "    <tr>\n",
       "      <th>6</th>\n",
       "      <td>6</td>\n",
       "      <td>latitude</td>\n",
       "      <td>numeric</td>\n",
       "      <td>NaN</td>\n",
       "      <td>NaN</td>\n",
       "      <td>stations</td>\n",
       "    </tr>\n",
       "    <tr>\n",
       "      <th>7</th>\n",
       "      <td>7</td>\n",
       "      <td>longitude</td>\n",
       "      <td>numeric</td>\n",
       "      <td>NaN</td>\n",
       "      <td>NaN</td>\n",
       "      <td>stations</td>\n",
       "    </tr>\n",
       "    <tr>\n",
       "      <th>8</th>\n",
       "      <td>8</td>\n",
       "      <td>gse</td>\n",
       "      <td>numeric</td>\n",
       "      <td>NaN</td>\n",
       "      <td>NaN</td>\n",
       "      <td>stations</td>\n",
       "    </tr>\n",
       "    <tr>\n",
       "      <th>9</th>\n",
       "      <td>9</td>\n",
       "      <td>rpe</td>\n",
       "      <td>numeric</td>\n",
       "      <td>NaN</td>\n",
       "      <td>NaN</td>\n",
       "      <td>stations</td>\n",
       "    </tr>\n",
       "    <tr>\n",
       "      <th>10</th>\n",
       "      <td>10</td>\n",
       "      <td>gse_method</td>\n",
       "      <td>text</td>\n",
       "      <td>NaN</td>\n",
       "      <td>NaN</td>\n",
       "      <td>stations</td>\n",
       "    </tr>\n",
       "    <tr>\n",
       "      <th>11</th>\n",
       "      <td>11</td>\n",
       "      <td>gse_acc</td>\n",
       "      <td>text</td>\n",
       "      <td>NaN</td>\n",
       "      <td>NaN</td>\n",
       "      <td>stations</td>\n",
       "    </tr>\n",
       "    <tr>\n",
       "      <th>12</th>\n",
       "      <td>12</td>\n",
       "      <td>basin_code</td>\n",
       "      <td>text</td>\n",
       "      <td>NaN</td>\n",
       "      <td>NaN</td>\n",
       "      <td>stations</td>\n",
       "    </tr>\n",
       "    <tr>\n",
       "      <th>13</th>\n",
       "      <td>13</td>\n",
       "      <td>basin_name</td>\n",
       "      <td>text</td>\n",
       "      <td>NaN</td>\n",
       "      <td>NaN</td>\n",
       "      <td>stations</td>\n",
       "    </tr>\n",
       "    <tr>\n",
       "      <th>14</th>\n",
       "      <td>14</td>\n",
       "      <td>county_name</td>\n",
       "      <td>text</td>\n",
       "      <td>NaN</td>\n",
       "      <td>NaN</td>\n",
       "      <td>stations</td>\n",
       "    </tr>\n",
       "    <tr>\n",
       "      <th>15</th>\n",
       "      <td>15</td>\n",
       "      <td>well_depth</td>\n",
       "      <td>numeric</td>\n",
       "      <td>NaN</td>\n",
       "      <td>NaN</td>\n",
       "      <td>stations</td>\n",
       "    </tr>\n",
       "    <tr>\n",
       "      <th>16</th>\n",
       "      <td>16</td>\n",
       "      <td>well_use</td>\n",
       "      <td>text</td>\n",
       "      <td>NaN</td>\n",
       "      <td>NaN</td>\n",
       "      <td>stations</td>\n",
       "    </tr>\n",
       "    <tr>\n",
       "      <th>17</th>\n",
       "      <td>17</td>\n",
       "      <td>well_type</td>\n",
       "      <td>text</td>\n",
       "      <td>NaN</td>\n",
       "      <td>NaN</td>\n",
       "      <td>stations</td>\n",
       "    </tr>\n",
       "    <tr>\n",
       "      <th>18</th>\n",
       "      <td>18</td>\n",
       "      <td>wcr_no</td>\n",
       "      <td>text</td>\n",
       "      <td>NaN</td>\n",
       "      <td>NaN</td>\n",
       "      <td>stations</td>\n",
       "    </tr>\n",
       "    <tr>\n",
       "      <th>19</th>\n",
       "      <td>19</td>\n",
       "      <td>monitoring_program</td>\n",
       "      <td>text</td>\n",
       "      <td>NaN</td>\n",
       "      <td>NaN</td>\n",
       "      <td>stations</td>\n",
       "    </tr>\n",
       "  </tbody>\n",
       "</table>\n",
       "</div>"
      ],
      "text/plain": [
       "    Unnamed: 0                          column     type  label  description  \\\n",
       "0            0                             _id      int    NaN          NaN   \n",
       "1            1                       site_code     text    NaN          NaN   \n",
       "2            2                          stn_id     text    NaN          NaN   \n",
       "3            3                             swn     text    NaN          NaN   \n",
       "4            4                       well_name     text    NaN          NaN   \n",
       "5            5  continuous_data_station_number     text    NaN          NaN   \n",
       "6            6                        latitude  numeric    NaN          NaN   \n",
       "7            7                       longitude  numeric    NaN          NaN   \n",
       "8            8                             gse  numeric    NaN          NaN   \n",
       "9            9                             rpe  numeric    NaN          NaN   \n",
       "10          10                      gse_method     text    NaN          NaN   \n",
       "11          11                         gse_acc     text    NaN          NaN   \n",
       "12          12                      basin_code     text    NaN          NaN   \n",
       "13          13                      basin_name     text    NaN          NaN   \n",
       "14          14                     county_name     text    NaN          NaN   \n",
       "15          15                      well_depth  numeric    NaN          NaN   \n",
       "16          16                        well_use     text    NaN          NaN   \n",
       "17          17                       well_type     text    NaN          NaN   \n",
       "18          18                          wcr_no     text    NaN          NaN   \n",
       "19          19              monitoring_program     text    NaN          NaN   \n",
       "\n",
       "       table  \n",
       "0   stations  \n",
       "1   stations  \n",
       "2   stations  \n",
       "3   stations  \n",
       "4   stations  \n",
       "5   stations  \n",
       "6   stations  \n",
       "7   stations  \n",
       "8   stations  \n",
       "9   stations  \n",
       "10  stations  \n",
       "11  stations  \n",
       "12  stations  \n",
       "13  stations  \n",
       "14  stations  \n",
       "15  stations  \n",
       "16  stations  \n",
       "17  stations  \n",
       "18  stations  \n",
       "19  stations  "
      ]
     },
     "metadata": {},
     "output_type": "display_data"
    }
   ],
   "source": [
    "display(DataDictionary_stations_df)"
   ]
  },
  {
   "cell_type": "markdown",
   "id": "3098a715-1f1d-495f-b143-77bc4c3135fb",
   "metadata": {},
   "source": [
    "### Display all metadata that does not have nulls (excludes all station metadata)"
   ]
  },
  {
   "cell_type": "code",
   "execution_count": 11,
   "id": "4a93a032-1e76-44c9-b31c-7018ffc41247",
   "metadata": {
    "tags": []
   },
   "outputs": [
    {
     "data": {
      "text/html": [
       "<div>\n",
       "<style scoped>\n",
       "    .dataframe tbody tr th:only-of-type {\n",
       "        vertical-align: middle;\n",
       "    }\n",
       "\n",
       "    .dataframe tbody tr th {\n",
       "        vertical-align: top;\n",
       "    }\n",
       "\n",
       "    .dataframe thead th {\n",
       "        text-align: right;\n",
       "    }\n",
       "</style>\n",
       "<table border=\"1\" class=\"dataframe\">\n",
       "  <thead>\n",
       "    <tr style=\"text-align: right;\">\n",
       "      <th></th>\n",
       "      <th>column</th>\n",
       "      <th>label</th>\n",
       "      <th>description</th>\n",
       "      <th>table</th>\n",
       "      <th>type</th>\n",
       "    </tr>\n",
       "  </thead>\n",
       "  <tbody>\n",
       "    <tr>\n",
       "      <th>19</th>\n",
       "      <td>bot_prf_int</td>\n",
       "      <td>Depth To Bottom of Perforation Interval</td>\n",
       "      <td>Depth in feet below ground surface to the bott...</td>\n",
       "      <td>perforations</td>\n",
       "      <td>numeric</td>\n",
       "    </tr>\n",
       "    <tr>\n",
       "      <th>12</th>\n",
       "      <td>coop_org_name</td>\n",
       "      <td>Collecting Organization</td>\n",
       "      <td>Organization which collected the water level m...</td>\n",
       "      <td>measurements</td>\n",
       "      <td>text</td>\n",
       "    </tr>\n",
       "    <tr>\n",
       "      <th>6</th>\n",
       "      <td>gse_gwe</td>\n",
       "      <td>Ground Surface Elevation to Groundwater Elevation</td>\n",
       "      <td>Depth to groundwater surface in feet below gro...</td>\n",
       "      <td>measurements</td>\n",
       "      <td>numeric</td>\n",
       "    </tr>\n",
       "    <tr>\n",
       "      <th>5</th>\n",
       "      <td>gwe</td>\n",
       "      <td>Groundwater Elevation (ft)</td>\n",
       "      <td>Groundwater elevation in feet above mean sea l...</td>\n",
       "      <td>measurements</td>\n",
       "      <td>numeric</td>\n",
       "    </tr>\n",
       "    <tr>\n",
       "      <th>13</th>\n",
       "      <td>monitoring_program</td>\n",
       "      <td>DWR Monitoring Program</td>\n",
       "      <td>DWR Monitoring Program this well is primarily ...</td>\n",
       "      <td>measurements</td>\n",
       "      <td>text</td>\n",
       "    </tr>\n",
       "    <tr>\n",
       "      <th>15</th>\n",
       "      <td>msmt_cmt</td>\n",
       "      <td>Water Level Measurement Comments</td>\n",
       "      <td>Comment recorded for this water level measurem...</td>\n",
       "      <td>measurements</td>\n",
       "      <td>text</td>\n",
       "    </tr>\n",
       "    <tr>\n",
       "      <th>2</th>\n",
       "      <td>msmt_date</td>\n",
       "      <td>Water Level Measurement Date (PST)</td>\n",
       "      <td>Date and time water level measurement was take...</td>\n",
       "      <td>measurements</td>\n",
       "      <td>timestamp</td>\n",
       "    </tr>\n",
       "    <tr>\n",
       "      <th>17</th>\n",
       "      <td>site_code</td>\n",
       "      <td>Site Code</td>\n",
       "      <td>Location based 18 character alphanumeric code ...</td>\n",
       "      <td>perforations</td>\n",
       "      <td>text</td>\n",
       "    </tr>\n",
       "    <tr>\n",
       "      <th>1</th>\n",
       "      <td>site_code</td>\n",
       "      <td>Site Code</td>\n",
       "      <td>Location based 18 character alphanumeric code ...</td>\n",
       "      <td>measurements</td>\n",
       "      <td>text</td>\n",
       "    </tr>\n",
       "    <tr>\n",
       "      <th>14</th>\n",
       "      <td>source</td>\n",
       "      <td>Data source</td>\n",
       "      <td>The DWR data source the measurement.  Options ...</td>\n",
       "      <td>measurements</td>\n",
       "      <td>text</td>\n",
       "    </tr>\n",
       "    <tr>\n",
       "      <th>18</th>\n",
       "      <td>top_prf_int</td>\n",
       "      <td>Depth To Top of Perforation Interval</td>\n",
       "      <td>Depth in feet below ground surface to the top ...</td>\n",
       "      <td>perforations</td>\n",
       "      <td>numeric</td>\n",
       "    </tr>\n",
       "    <tr>\n",
       "      <th>10</th>\n",
       "      <td>wlm_acc_desc</td>\n",
       "      <td>Water Level Measurement Accuracy Description</td>\n",
       "      <td>Description for accuracy of water level (eleva...</td>\n",
       "      <td>measurements</td>\n",
       "      <td>text</td>\n",
       "    </tr>\n",
       "    <tr>\n",
       "      <th>4</th>\n",
       "      <td>wlm_gse</td>\n",
       "      <td>GSE for a specific water level measurement record</td>\n",
       "      <td>Ground Surface Elevation (GSE) at the well sit...</td>\n",
       "      <td>measurements</td>\n",
       "      <td>numeric</td>\n",
       "    </tr>\n",
       "    <tr>\n",
       "      <th>9</th>\n",
       "      <td>wlm_mthd_desc</td>\n",
       "      <td>Water Level Measurement Method Description</td>\n",
       "      <td>Description of water level measurement method.</td>\n",
       "      <td>measurements</td>\n",
       "      <td>text</td>\n",
       "    </tr>\n",
       "    <tr>\n",
       "      <th>11</th>\n",
       "      <td>wlm_org_name</td>\n",
       "      <td>Reporting Organization</td>\n",
       "      <td>Organization which reported the water level me...</td>\n",
       "      <td>measurements</td>\n",
       "      <td>text</td>\n",
       "    </tr>\n",
       "    <tr>\n",
       "      <th>7</th>\n",
       "      <td>wlm_qa_desc</td>\n",
       "      <td>Measurement quality description</td>\n",
       "      <td>Genearalized quality description of the water ...</td>\n",
       "      <td>measurements</td>\n",
       "      <td>text</td>\n",
       "    </tr>\n",
       "    <tr>\n",
       "      <th>8</th>\n",
       "      <td>wlm_qa_detail</td>\n",
       "      <td>Measurement quality detail</td>\n",
       "      <td>This field provides additional information on ...</td>\n",
       "      <td>measurements</td>\n",
       "      <td>text</td>\n",
       "    </tr>\n",
       "    <tr>\n",
       "      <th>3</th>\n",
       "      <td>wlm_rpe</td>\n",
       "      <td>RPE for a specific water level measurement record</td>\n",
       "      <td>Reference Point Elevation (RPE) used to collec...</td>\n",
       "      <td>measurements</td>\n",
       "      <td>numeric</td>\n",
       "    </tr>\n",
       "  </tbody>\n",
       "</table>\n",
       "</div>"
      ],
      "text/plain": [
       "                column                                              label  \\\n",
       "19         bot_prf_int            Depth To Bottom of Perforation Interval   \n",
       "12       coop_org_name                            Collecting Organization   \n",
       "6              gse_gwe  Ground Surface Elevation to Groundwater Elevation   \n",
       "5                  gwe                         Groundwater Elevation (ft)   \n",
       "13  monitoring_program                             DWR Monitoring Program   \n",
       "15            msmt_cmt                   Water Level Measurement Comments   \n",
       "2            msmt_date                 Water Level Measurement Date (PST)   \n",
       "17           site_code                                          Site Code   \n",
       "1            site_code                                          Site Code   \n",
       "14              source                                        Data source   \n",
       "18         top_prf_int               Depth To Top of Perforation Interval   \n",
       "10        wlm_acc_desc       Water Level Measurement Accuracy Description   \n",
       "4              wlm_gse  GSE for a specific water level measurement record   \n",
       "9        wlm_mthd_desc         Water Level Measurement Method Description   \n",
       "11        wlm_org_name                             Reporting Organization   \n",
       "7          wlm_qa_desc                    Measurement quality description   \n",
       "8        wlm_qa_detail                         Measurement quality detail   \n",
       "3              wlm_rpe  RPE for a specific water level measurement record   \n",
       "\n",
       "                                          description         table       type  \n",
       "19  Depth in feet below ground surface to the bott...  perforations    numeric  \n",
       "12  Organization which collected the water level m...  measurements       text  \n",
       "6   Depth to groundwater surface in feet below gro...  measurements    numeric  \n",
       "5   Groundwater elevation in feet above mean sea l...  measurements    numeric  \n",
       "13  DWR Monitoring Program this well is primarily ...  measurements       text  \n",
       "15  Comment recorded for this water level measurem...  measurements       text  \n",
       "2   Date and time water level measurement was take...  measurements  timestamp  \n",
       "17  Location based 18 character alphanumeric code ...  perforations       text  \n",
       "1   Location based 18 character alphanumeric code ...  measurements       text  \n",
       "14  The DWR data source the measurement.  Options ...  measurements       text  \n",
       "18  Depth in feet below ground surface to the top ...  perforations    numeric  \n",
       "10  Description for accuracy of water level (eleva...  measurements       text  \n",
       "4   Ground Surface Elevation (GSE) at the well sit...  measurements    numeric  \n",
       "9      Description of water level measurement method.  measurements       text  \n",
       "11  Organization which reported the water level me...  measurements       text  \n",
       "7   Genearalized quality description of the water ...  measurements       text  \n",
       "8   This field provides additional information on ...  measurements       text  \n",
       "3   Reference Point Elevation (RPE) used to collec...  measurements    numeric  "
      ]
     },
     "execution_count": 11,
     "metadata": {},
     "output_type": "execute_result"
    }
   ],
   "source": [
    "display_columns = ['column', 'label', 'description', 'table', 'type']\n",
    "combined_metadata_df = pd.concat([DataDictionary_measurements_df, DataDictionary_perforations_df, DataDictionary_stations_df], ignore_index=True)\n",
    "combined_metadata_df = combined_metadata_df.sort_values(by='column', ascending=True)\n",
    "combined_metadata_df = combined_metadata_df[display_columns]\n",
    "combined_metadata_df = combined_metadata_df.dropna(subset=['label', 'description'])\n",
    "combined_metadata_df"
   ]
  },
  {
   "cell_type": "markdown",
   "id": "c83d1a74-592d-427b-83cd-c9bc621540cd",
   "metadata": {},
   "source": [
    "# Import Data"
   ]
  },
  {
   "cell_type": "markdown",
   "id": "338338a1-14ff-43d8-bb0f-87ca06d7855d",
   "metadata": {},
   "source": [
    "### Import Measurements, Perforations and Stations"
   ]
  },
  {
   "cell_type": "code",
   "execution_count": null,
   "id": "a354847b-13da-4657-ad46-38b534fa8bfa",
   "metadata": {},
   "outputs": [],
   "source": [
    "measurements_df = pd.read_csv('../Resources/measurements.csv')\n",
    "perforations_df = pd.read_csv('../Resources/perforations.csv')\n",
    "stations_df = pd.read_csv('../Resources/stations.csv')"
   ]
  },
  {
   "cell_type": "markdown",
   "id": "74a30665-1111-41e3-8038-3713de1d3bb3",
   "metadata": {},
   "source": [
    "# Merge data"
   ]
  },
  {
   "cell_type": "markdown",
   "id": "9fa6ee03-cb61-40c0-adeb-036dfb24ae29",
   "metadata": {},
   "source": [
    "### Length of dataframes before merging"
   ]
  },
  {
   "cell_type": "code",
   "execution_count": 12,
   "id": "7e0ece19-ec09-47d7-9ec7-5985819de9b4",
   "metadata": {
    "tags": []
   },
   "outputs": [
    {
     "name": "stdout",
     "output_type": "stream",
     "text": [
      "Length of measurements_df is 5374924.  Length of perforations_df is 14771.  Length of stations is 46641.\n"
     ]
    }
   ],
   "source": [
    "len_measurements = len(measurements_df)\n",
    "len_perforations = len(perforations_df)\n",
    "len_stations =  len(stations_df)\n",
    "print(f\"Length of measurements_df is {len_measurements}.  Length of perforations_df is {len_perforations}.  Length of stations is {len_stations}.\")"
   ]
  },
  {
   "cell_type": "markdown",
   "id": "7d2b0589-2c2c-4281-91a9-28bb9a3fe572",
   "metadata": {},
   "source": [
    "### Merge dataframes"
   ]
  },
  {
   "cell_type": "code",
   "execution_count": 13,
   "id": "47fba1c8-31ff-4b3e-a39a-4d1252927743",
   "metadata": {
    "tags": []
   },
   "outputs": [],
   "source": [
    "# Left join measurements_df with perforations_df\n",
    "Groundwater_df = pd.merge(measurements_df, perforations_df, on='site_code', how='left')\n",
    "\n",
    "# Left join the result with stations_df\n",
    "Groundwater_df = pd.merge(Groundwater_df, stations_df, on='site_code', how='left')"
   ]
  },
  {
   "cell_type": "markdown",
   "id": "b7c183a5-749d-4969-ae9e-6f62350f089b",
   "metadata": {},
   "source": [
    "### Length of Groundwater_df dataframe after merging"
   ]
  },
  {
   "cell_type": "code",
   "execution_count": 15,
   "id": "d0d617f5-3351-4eae-8255-6a88bd158623",
   "metadata": {
    "tags": []
   },
   "outputs": [
    {
     "data": {
      "text/plain": [
       "7899431"
      ]
     },
     "execution_count": 15,
     "metadata": {},
     "output_type": "execute_result"
    }
   ],
   "source": [
    "length_after_merge = len(Groundwater_df)"
   ]
  },
  {
   "cell_type": "markdown",
   "id": "6a83a367-25e2-4599-8d4d-c7713ddc40c1",
   "metadata": {},
   "source": [
    "# Drop Duplicates"
   ]
  },
  {
   "cell_type": "code",
   "execution_count": 16,
   "id": "7062b1bb-157f-4f4a-b68f-c5ac1469c9b4",
   "metadata": {
    "tags": []
   },
   "outputs": [],
   "source": [
    "Groundwater_df = Groundwater_df.drop_duplicates(keep='last')"
   ]
  },
  {
   "cell_type": "code",
   "execution_count": 17,
   "id": "5e59e14e-3828-400a-b017-c6fc5ec7c52b",
   "metadata": {
    "tags": []
   },
   "outputs": [],
   "source": [
    "length_after_droping_duplicates = len(Groundwater_df)"
   ]
  },
  {
   "cell_type": "code",
   "execution_count": null,
   "id": "687fb32a-ad8e-482e-8c70-4f65b87f7061",
   "metadata": {},
   "outputs": [],
   "source": [
    "print(f\"The merged dataset has {length_after_merge} rows but {length_after_merge-length_after_droping_duplicates} duplicates were dropped, leaving {}\""
   ]
  },
  {
   "cell_type": "markdown",
   "id": "753d196f-a68e-4955-b612-5044c79541c7",
   "metadata": {},
   "source": [
    "# Convert date to year and group by year for counts"
   ]
  },
  {
   "cell_type": "code",
   "execution_count": 16,
   "id": "7ef9061b-4837-4834-b994-a59092a672bf",
   "metadata": {
    "tags": []
   },
   "outputs": [],
   "source": [
    "Groundwater_df['year'] = Groundwater_df['msmt_date'].str[:4]\n",
    "Groundwater_df['year'] = Groundwater_df['year'].astype(int)\n",
    "year_counts = Groundwater_df.groupby('year').size()\n",
    "year_counts = year_counts.to_frame()\n",
    "year_counts = year_counts.reset_index()\n",
    "year_counts.columns = ['year', 'count']"
   ]
  },
  {
   "cell_type": "markdown",
   "id": "76fc08de-579c-439b-b518-58f027167cf1",
   "metadata": {},
   "source": [
    "# Group by year and get average of ground water elevation"
   ]
  },
  {
   "cell_type": "code",
   "execution_count": 30,
   "id": "16786041-f180-4b9c-a8f6-326f47e2e049",
   "metadata": {
    "collapsed": true,
    "jupyter": {
     "outputs_hidden": true
    },
    "tags": []
   },
   "outputs": [
    {
     "data": {
      "text/html": [
       "<div>\n",
       "<style scoped>\n",
       "    .dataframe tbody tr th:only-of-type {\n",
       "        vertical-align: middle;\n",
       "    }\n",
       "\n",
       "    .dataframe tbody tr th {\n",
       "        vertical-align: top;\n",
       "    }\n",
       "\n",
       "    .dataframe thead th {\n",
       "        text-align: right;\n",
       "    }\n",
       "</style>\n",
       "<table border=\"1\" class=\"dataframe\">\n",
       "  <thead>\n",
       "    <tr style=\"text-align: right;\">\n",
       "      <th></th>\n",
       "      <th>year</th>\n",
       "      <th>average_gse_gwe</th>\n",
       "    </tr>\n",
       "  </thead>\n",
       "  <tbody>\n",
       "    <tr>\n",
       "      <th>126</th>\n",
       "      <td>2024</td>\n",
       "      <td>41.808258</td>\n",
       "    </tr>\n",
       "    <tr>\n",
       "      <th>125</th>\n",
       "      <td>2023</td>\n",
       "      <td>64.570539</td>\n",
       "    </tr>\n",
       "    <tr>\n",
       "      <th>124</th>\n",
       "      <td>2022</td>\n",
       "      <td>36.416349</td>\n",
       "    </tr>\n",
       "    <tr>\n",
       "      <th>123</th>\n",
       "      <td>2021</td>\n",
       "      <td>65.565614</td>\n",
       "    </tr>\n",
       "    <tr>\n",
       "      <th>122</th>\n",
       "      <td>2020</td>\n",
       "      <td>56.736423</td>\n",
       "    </tr>\n",
       "    <tr>\n",
       "      <th>121</th>\n",
       "      <td>2019</td>\n",
       "      <td>60.350402</td>\n",
       "    </tr>\n",
       "    <tr>\n",
       "      <th>120</th>\n",
       "      <td>2018</td>\n",
       "      <td>66.943946</td>\n",
       "    </tr>\n",
       "    <tr>\n",
       "      <th>119</th>\n",
       "      <td>2017</td>\n",
       "      <td>60.423106</td>\n",
       "    </tr>\n",
       "    <tr>\n",
       "      <th>118</th>\n",
       "      <td>2016</td>\n",
       "      <td>71.401163</td>\n",
       "    </tr>\n",
       "    <tr>\n",
       "      <th>117</th>\n",
       "      <td>2015</td>\n",
       "      <td>65.150915</td>\n",
       "    </tr>\n",
       "    <tr>\n",
       "      <th>116</th>\n",
       "      <td>2014</td>\n",
       "      <td>61.505658</td>\n",
       "    </tr>\n",
       "    <tr>\n",
       "      <th>115</th>\n",
       "      <td>2013</td>\n",
       "      <td>58.667713</td>\n",
       "    </tr>\n",
       "    <tr>\n",
       "      <th>114</th>\n",
       "      <td>2012</td>\n",
       "      <td>49.952913</td>\n",
       "    </tr>\n",
       "    <tr>\n",
       "      <th>113</th>\n",
       "      <td>2011</td>\n",
       "      <td>59.042390</td>\n",
       "    </tr>\n",
       "    <tr>\n",
       "      <th>112</th>\n",
       "      <td>2010</td>\n",
       "      <td>52.390005</td>\n",
       "    </tr>\n",
       "    <tr>\n",
       "      <th>111</th>\n",
       "      <td>2009</td>\n",
       "      <td>54.648711</td>\n",
       "    </tr>\n",
       "    <tr>\n",
       "      <th>110</th>\n",
       "      <td>2008</td>\n",
       "      <td>54.847152</td>\n",
       "    </tr>\n",
       "    <tr>\n",
       "      <th>109</th>\n",
       "      <td>2007</td>\n",
       "      <td>50.399677</td>\n",
       "    </tr>\n",
       "    <tr>\n",
       "      <th>108</th>\n",
       "      <td>2006</td>\n",
       "      <td>48.188249</td>\n",
       "    </tr>\n",
       "    <tr>\n",
       "      <th>107</th>\n",
       "      <td>2005</td>\n",
       "      <td>51.568177</td>\n",
       "    </tr>\n",
       "  </tbody>\n",
       "</table>\n",
       "</div>"
      ],
      "text/plain": [
       "     year  average_gse_gwe\n",
       "126  2024        41.808258\n",
       "125  2023        64.570539\n",
       "124  2022        36.416349\n",
       "123  2021        65.565614\n",
       "122  2020        56.736423\n",
       "121  2019        60.350402\n",
       "120  2018        66.943946\n",
       "119  2017        60.423106\n",
       "118  2016        71.401163\n",
       "117  2015        65.150915\n",
       "116  2014        61.505658\n",
       "115  2013        58.667713\n",
       "114  2012        49.952913\n",
       "113  2011        59.042390\n",
       "112  2010        52.390005\n",
       "111  2009        54.648711\n",
       "110  2008        54.847152\n",
       "109  2007        50.399677\n",
       "108  2006        48.188249\n",
       "107  2005        51.568177"
      ]
     },
     "execution_count": 30,
     "metadata": {},
     "output_type": "execute_result"
    }
   ],
   "source": [
    "# Group by 'year' and calculate the average 'gwe'\n",
    "average_gwe_by_year = Groundwater_df.groupby('year')['gwe'].mean().reset_index()\n",
    "\n",
    "# Rename the column for clarity\n",
    "average_gwe_by_year.rename(columns={'gwe': 'average_gwe'}, inplace=True)\n",
    "\n",
    "average_gwe_by_year = average_gwe_by_year.sort_values(by='year', ascending=False)\n",
    "\n",
    "\n",
    "average_gse_gwe_by_year = Groundwater_df.groupby('year')['gse_gwe'].mean().reset_index()\n",
    "\n",
    "# Rename the column for clarity\n",
    "average_gse_gwe_by_year.rename(columns={'gse_gwe': 'average_gse_gwe'}, inplace=True)\n",
    "\n",
    "average_gse_gwe_by_year = average_gse_gwe_by_year.sort_values(by='year', ascending=False)"
   ]
  },
  {
   "cell_type": "markdown",
   "id": "a0e2fe7b-d96a-4717-96b2-0d1e0e4c88d0",
   "metadata": {},
   "source": [
    "# Filter by Years"
   ]
  },
  {
   "cell_type": "code",
   "execution_count": 31,
   "id": "2dcbfc51-46de-48a7-ab59-5c1ea0d19a7e",
   "metadata": {
    "tags": []
   },
   "outputs": [],
   "source": [
    "year1 = 1950\n",
    "year2 = 2025\n",
    "plot_gwe = average_gwe_by_year[(average_gwe_by_year['year'] >= year1) & (average_gwe_by_year['year'] <= year2)]\n",
    "plot_gse_gwe = average_gse_gwe_by_year[(average_gse_gwe_by_year['year'] >= year1) & (average_gse_gwe_by_year['year'] <= year2)]"
   ]
  },
  {
   "cell_type": "markdown",
   "id": "71437c0d-84ca-432f-b6a4-9fd089ef02c9",
   "metadata": {
    "tags": []
   },
   "source": [
    "# Scatterplot of year by Average GWE "
   ]
  },
  {
   "cell_type": "code",
   "execution_count": 32,
   "id": "f00cda97-ccf4-4a54-857a-866afc315b8f",
   "metadata": {
    "tags": []
   },
   "outputs": [
    {
     "data": {
      "image/png": "[encoded data removed]",
      "text/plain": [
       "<Figure size 1000x600 with 1 Axes>"
      ]
     },
     "metadata": {},
     "output_type": "display_data"
    }
   ],
   "source": [
    "import matplotlib.pyplot as plt\n",
    "\n",
    "\n",
    "\n",
    "# Sample DataFrame (assuming average_gwe_by_year is already created)\n",
    "# average_gwe_by_year = pd.DataFrame({\n",
    "#     'year': [2020, 2021, 2022],\n",
    "#     'average_gwe': [15.2, 14.8, 15.6]\n",
    "# })\n",
    "\n",
    "# Create a scatter plot\n",
    "plt.figure(figsize=(10, 6))  # Optional: specify the figure size\n",
    "plt.scatter(plot_df['year'], plot_df['average_gwe'], color='b', marker='o')\n",
    "\n",
    "# Add title and labels\n",
    "plt.title('Average Groundwater Elevation by Year')\n",
    "plt.xlabel('Year')\n",
    "plt.ylabel('Average GWE')\n",
    "\n",
    "# Display the plot\n",
    "plt.grid(True)  # Optional: add a grid for better readability\n",
    "plt.show()\n"
   ]
  },
  {
   "cell_type": "markdown",
   "id": "2be475e3-9b0d-4087-80e2-4e4dc345612a",
   "metadata": {},
   "source": [
    "# Scatterplot of year by Average gse_gwe "
   ]
  },
  {
   "cell_type": "code",
   "execution_count": 34,
   "id": "60d5237f-a1a2-4337-99e2-ffb96e3f9c22",
   "metadata": {
    "tags": []
   },
   "outputs": [
    {
     "data": {
      "image/png": "[encoded data removed]",
      "text/plain": [
       "<Figure size 1000x600 with 1 Axes>"
      ]
     },
     "metadata": {},
     "output_type": "display_data"
    }
   ],
   "source": [
    "import matplotlib.pyplot as plt\n",
    "\n",
    "\n",
    "\n",
    "# Sample DataFrame (assuming average_gwe_by_year is already created)\n",
    "# average_gwe_by_year = pd.DataFrame({\n",
    "#     'year': [2020, 2021, 2022],\n",
    "#     'average_gwe': [15.2, 14.8, 15.6]\n",
    "# })\n",
    "\n",
    "# Create a scatter plot\n",
    "plt.figure(figsize=(10, 6))  # Optional: specify the figure size\n",
    "plt.scatter(plot_gse_gwe['year'], plot_gse_gwe['average_gse_gwe'], color='b', marker='o')\n",
    "\n",
    "# Add title and labels\n",
    "plt.title('Average Groundwater Elevation by Year')\n",
    "plt.xlabel('Year')\n",
    "plt.ylabel('Average GSE GWE')\n",
    "\n",
    "# Display the plot\n",
    "plt.grid(True)  # Optional: add a grid for better readability\n",
    "plt.show()\n"
   ]
  },
  {
   "cell_type": "markdown",
   "id": "77869e42-c04b-492c-ac83-6cf977e8b626",
   "metadata": {},
   "source": [
    "# Confirm Primary Keys"
   ]
  },
  {
   "cell_type": "code",
   "execution_count": null,
   "id": "32a87844-6db4-48c8-803c-2fb1fc8c9cf6",
   "metadata": {
    "tags": []
   },
   "outputs": [],
   "source": [
    "import pandas as pd\n",
    "\n",
    "stations_df = pd.read_csv('stations.csv')\n",
    "\n",
    "# Check for null values in 'site_code'\n",
    "null_values = stations_df['stn_id'].isnull().sum()\n",
    "\n",
    "# Check for uniqueness of 'site_code'\n",
    "unique_values = stations_df['stn_id'].nunique()\n",
    "total_values = stations_df['stn_id'].count()\n",
    "print(f\"Number of unique values in 'site_code': {unique_values}\")\n",
    "print(f\"Total number of values in 'site_code': {total_values}\")\n",
    "\n",
    "# Determine if 'site_code' is a primary key\n",
    "if null_values == 0 and unique_values == total_values:\n",
    "    print(\"The 'stn_id' column is a primary key.\")\n",
    "else:\n",
    "    print(\"The 'stn_id' column is not a primary key.\")"
   ]
  }
 ],
 "metadata": {
  "kernelspec": {
   "display_name": "Python 3 (ipykernel)",
   "language": "python",
   "name": "python3"
  },
  "language_info": {
   "codemirror_mode": {
    "name": "ipython",
    "version": 3
   },
   "file_extension": ".py",
   "mimetype": "text/x-python",
   "name": "python",
   "nbconvert_exporter": "python",
   "pygments_lexer": "ipython3",
   "version": "3.11.5"
  }
 },
 "nbformat": 4,
 "nbformat_minor": 5
}
