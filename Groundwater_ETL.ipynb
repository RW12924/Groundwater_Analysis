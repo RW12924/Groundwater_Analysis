{
 "cells": [
  {
   "cell_type": "markdown",
   "id": "b364c61f-a698-4942-b3e5-8d51a3e9a65a",
   "metadata": {},
   "source": [
    "# Dependencies"
   ]
  },
  {
   "cell_type": "code",
   "execution_count": 1,
   "id": "dc50a1b4-c160-47aa-95e7-58b1af5562a0",
   "metadata": {
    "tags": []
   },
   "outputs": [],
   "source": [
    "import json\n",
    "import urllib.request\n",
    "import requests\n",
    "import pandas as pd\n",
    "import sqlite3"
   ]
  },
  {
   "cell_type": "markdown",
   "id": "71aadc20-8a64-4f00-8a76-ce383e7d409e",
   "metadata": {},
   "source": [
    "# API Queries"
   ]
  },
  {
   "cell_type": "code",
   "execution_count": 22,
   "id": "3a01cccb-304a-4b79-8599-d47d016adf3e",
   "metadata": {
    "tags": []
   },
   "outputs": [],
   "source": [
    "#Measurements\n",
    "m_url = 'https://data.cnra.ca.gov/api/3/action/datastore_search?resource_id=bfa9f262-24a1-45bd-8dc8-138bc8107266'\n",
    "\n",
    "# Stations\n",
    "s_url = 'https://data.cnra.ca.gov/api/3/action/datastore_search?resource_id=af157380-fb42-4abf-b72a-6f9f98868077'\n",
    "\n",
    "# Well Perforations\n",
    "p_url = 'https://data.cnra.ca.gov/api/3/action/datastore_search?resource_id=f1deaa6d-2cb5-4052-a73f-08a69f26b750'"
   ]
  },
  {
   "cell_type": "markdown",
   "id": "ce8d2443-94e9-4a2c-9ca5-e902d22695bf",
   "metadata": {},
   "source": [
    "# Get Measurements data"
   ]
  },
  {
   "cell_type": "code",
   "execution_count": 23,
   "id": "9d860057-285a-46f7-b5ad-a330cca06032",
   "metadata": {
    "tags": []
   },
   "outputs": [
    {
     "name": "stdout",
     "output_type": "stream",
     "text": [
      "Successfully retrieved measurement data\n"
     ]
    }
   ],
   "source": [
    "response = requests.get(m_url)\n",
    "\n",
    "if response.status_code == 200:\n",
    "    data = response.json()\n",
    "    records = data.get('result', {}).get('records', [])\n",
    "    m_df = pd.DataFrame(records)\n",
    "    print('Successfully retrieved measurement data')\n",
    "else:\n",
    "    print(f\"Failed to retrieve measurement data: {response.status_code} - {response.text}\")"
   ]
  },
  {
   "cell_type": "markdown",
   "id": "d100c5b9-63f9-4b8b-bbb0-58de7b6983d0",
   "metadata": {},
   "source": [
    "### In Measurements convert msmt_date to year"
   ]
  },
  {
   "cell_type": "code",
   "execution_count": 24,
   "id": "ba216df8-8084-4d10-ae0f-f0e89d92ba71",
   "metadata": {
    "tags": []
   },
   "outputs": [],
   "source": [
    "m_df['year'] = m_df['msmt_date'].str[:4]\n",
    "m_df['year'] = m_df['year'].astype(int)"
   ]
  },
  {
   "cell_type": "markdown",
   "id": "081cfbc5-a655-4964-a8b1-7a6b1c0cb245",
   "metadata": {},
   "source": [
    "# Get Stations data"
   ]
  },
  {
   "cell_type": "code",
   "execution_count": 25,
   "id": "9d72ddb3-6a8d-4982-8cc4-1dd0e70bca5f",
   "metadata": {
    "tags": []
   },
   "outputs": [
    {
     "name": "stdout",
     "output_type": "stream",
     "text": [
      "Successfully retrieved station data\n"
     ]
    }
   ],
   "source": [
    "response = requests.get(s_url)\n",
    "\n",
    "if response.status_code == 200:\n",
    "    data = response.json()\n",
    "    records = data.get('result', {}).get('records', [])\n",
    "    s_df = pd.DataFrame(records)\n",
    "    print('Successfully retrieved station data')\n",
    "else:\n",
    "    print(f\"Failed to retrieve station data: {response.status_code} - {response.text}\")"
   ]
  },
  {
   "cell_type": "markdown",
   "id": "cada772d-0485-4467-92b7-2efa5aa78842",
   "metadata": {},
   "source": [
    "# Get Well Perforations"
   ]
  },
  {
   "cell_type": "code",
   "execution_count": 26,
   "id": "c199588c-209a-40da-80bb-53f70399a026",
   "metadata": {
    "tags": []
   },
   "outputs": [
    {
     "name": "stdout",
     "output_type": "stream",
     "text": [
      "Successfully retrieved Perforations data\n"
     ]
    }
   ],
   "source": [
    "response = requests.get(p_url)\n",
    "\n",
    "if response.status_code == 200:\n",
    "    data = response.json()\n",
    "    records = data.get('result', {}).get('records', [])\n",
    "    p_df = pd.DataFrame(records)\n",
    "    print('Successfully retrieved Perforations data')\n",
    "else:\n",
    "    print(f\"Failed to retrieve Perforations data: {response.status_code} - {response.text}\")"
   ]
  },
  {
   "cell_type": "markdown",
   "id": "0e226636-64c2-4007-a1b9-7fddd36be297",
   "metadata": {},
   "source": [
    "# Check length of df's"
   ]
  },
  {
   "cell_type": "code",
   "execution_count": 27,
   "id": "5ac3cbf4-5b03-4654-a918-16c779180356",
   "metadata": {
    "tags": []
   },
   "outputs": [
    {
     "name": "stdout",
     "output_type": "stream",
     "text": [
      "Measurements is: 100.  Stations is: 100.  Perforations is: 100\n"
     ]
    }
   ],
   "source": [
    "print(f\"Measurements is: {len(m_df)}.  Stations is: {len(s_df)}.  Perforations is: {len(p_df)}\")"
   ]
  },
  {
   "cell_type": "markdown",
   "id": "77502c0d-79ed-49e3-977a-8f277c4c4f31",
   "metadata": {},
   "source": [
    "# Export to SQLite database"
   ]
  },
  {
   "cell_type": "code",
   "execution_count": 28,
   "id": "92fc07f5-a64b-4d99-a316-f1b5c798495d",
   "metadata": {
    "tags": []
   },
   "outputs": [],
   "source": [
    "conn = sqlite3.connect('Resources/Groundwater.db')\n",
    "\n",
    "# Measurements\n",
    "m_df.to_sql('Measurements', conn, if_exists='replace', index=False)\n",
    "\n",
    "# Stations\n",
    "s_df.to_sql('Stations', conn, if_exists='replace', index=False)\n",
    "\n",
    "# Perforations\n",
    "p_df.to_sql('Perforations', conn, if_exists='replace', index=False)\n",
    "\n",
    "conn.close()"
   ]
  },
  {
   "cell_type": "markdown",
   "id": "d13ae22f-362a-43ed-b41a-24929d272361",
   "metadata": {},
   "source": [
    "# Create View"
   ]
  },
  {
   "cell_type": "code",
   "execution_count": null,
   "id": "f26654c1-eb5f-4dc8-a912-196ba2ba8419",
   "metadata": {
    "tags": []
   },
   "outputs": [],
   "source": [
    "conn = sqlite3.connect('Resources/Groundwater.db')\n",
    "\n",
    "# Create a cursor object\n",
    "cursor = conn.cursor()\n",
    "\n",
    "# SQL command to create the view\n",
    "create_view_sql = \"\"\"\n",
    "CREATE VIEW vw_groundwater AS\n",
    "SELECT \n",
    "    M.year,\n",
    "    M.site_code,\n",
    "    M.gse_gwe,\n",
    "    M.gwe,\n",
    "    M.wlm_gse,\n",
    "    M.wlm_rpe,\n",
    "    S.latitude,\n",
    "    S.longitude,\n",
    "    S.gse,\n",
    "    S.rpe,\n",
    "    S.well_depth,\n",
    "    P.top_prf_int AS p_top_prf_int,  -- Alias to avoid column name conflict\n",
    "    P.bot_prf_int\n",
    "FROM \n",
    "    Measurements M\n",
    "LEFT JOIN \n",
    "    Stations S ON M.site_code = S.site_code\n",
    "LEFT JOIN \n",
    "    Perforations P ON M.site_code = P.site_code;\n",
    "\"\"\"\n",
    "\n",
    "# Execute the SQL command to create the view\n",
    "cursor.execute(create_view_sql)\n",
    "\n",
    "# Commit the changes\n",
    "conn.commit()\n",
    "\n",
    "# Close the connection\n",
    "conn.close()"
   ]
  },
  {
   "cell_type": "markdown",
   "id": "4c588689-8f35-4d15-81dc-149405e79453",
   "metadata": {
    "tags": []
   },
   "source": [
    "# Query View"
   ]
  },
  {
   "cell_type": "code",
   "execution_count": 34,
   "id": "7f8da712-5048-4534-bc26-2c4f852cafeb",
   "metadata": {
    "tags": []
   },
   "outputs": [
    {
     "data": {
      "text/html": [
       "<div>\n",
       "<style scoped>\n",
       "    .dataframe tbody tr th:only-of-type {\n",
       "        vertical-align: middle;\n",
       "    }\n",
       "\n",
       "    .dataframe tbody tr th {\n",
       "        vertical-align: top;\n",
       "    }\n",
       "\n",
       "    .dataframe thead th {\n",
       "        text-align: right;\n",
       "    }\n",
       "</style>\n",
       "<table border=\"1\" class=\"dataframe\">\n",
       "  <thead>\n",
       "    <tr style=\"text-align: right;\">\n",
       "      <th></th>\n",
       "      <th>year</th>\n",
       "      <th>site_code</th>\n",
       "      <th>gse_gwe</th>\n",
       "      <th>gwe</th>\n",
       "      <th>wlm_gse</th>\n",
       "      <th>wlm_rpe</th>\n",
       "      <th>latitude</th>\n",
       "      <th>longitude</th>\n",
       "      <th>gse</th>\n",
       "      <th>rpe</th>\n",
       "      <th>well_depth</th>\n",
       "      <th>p_top_prf_int</th>\n",
       "      <th>bot_prf_int</th>\n",
       "    </tr>\n",
       "  </thead>\n",
       "  <tbody>\n",
       "    <tr>\n",
       "      <th>0</th>\n",
       "      <td>2023</td>\n",
       "      <td>320000N1140000W001</td>\n",
       "      <td>423.1</td>\n",
       "      <td>122.82</td>\n",
       "      <td>545.92</td>\n",
       "      <td>545.92</td>\n",
       "      <td>36.56048</td>\n",
       "      <td>-121.75463</td>\n",
       "      <td>545.92</td>\n",
       "      <td>545.92</td>\n",
       "      <td>386.0</td>\n",
       "      <td>230.0</td>\n",
       "      <td>374.0</td>\n",
       "    </tr>\n",
       "    <tr>\n",
       "      <th>1</th>\n",
       "      <td>2023</td>\n",
       "      <td>320000N1140000W001</td>\n",
       "      <td>383.5</td>\n",
       "      <td>162.42</td>\n",
       "      <td>545.92</td>\n",
       "      <td>545.92</td>\n",
       "      <td>36.56048</td>\n",
       "      <td>-121.75463</td>\n",
       "      <td>545.92</td>\n",
       "      <td>545.92</td>\n",
       "      <td>386.0</td>\n",
       "      <td>230.0</td>\n",
       "      <td>374.0</td>\n",
       "    </tr>\n",
       "    <tr>\n",
       "      <th>2</th>\n",
       "      <td>2023</td>\n",
       "      <td>320000N1140000W001</td>\n",
       "      <td>385.0</td>\n",
       "      <td>160.92</td>\n",
       "      <td>545.92</td>\n",
       "      <td>545.92</td>\n",
       "      <td>36.56048</td>\n",
       "      <td>-121.75463</td>\n",
       "      <td>545.92</td>\n",
       "      <td>545.92</td>\n",
       "      <td>386.0</td>\n",
       "      <td>230.0</td>\n",
       "      <td>374.0</td>\n",
       "    </tr>\n",
       "    <tr>\n",
       "      <th>3</th>\n",
       "      <td>2023</td>\n",
       "      <td>320000N1140000W001</td>\n",
       "      <td>377.0</td>\n",
       "      <td>168.92</td>\n",
       "      <td>545.92</td>\n",
       "      <td>545.92</td>\n",
       "      <td>36.56048</td>\n",
       "      <td>-121.75463</td>\n",
       "      <td>545.92</td>\n",
       "      <td>545.92</td>\n",
       "      <td>386.0</td>\n",
       "      <td>230.0</td>\n",
       "      <td>374.0</td>\n",
       "    </tr>\n",
       "    <tr>\n",
       "      <th>4</th>\n",
       "      <td>2023</td>\n",
       "      <td>320000N1140000W001</td>\n",
       "      <td>384.2</td>\n",
       "      <td>161.72</td>\n",
       "      <td>545.92</td>\n",
       "      <td>545.92</td>\n",
       "      <td>36.56048</td>\n",
       "      <td>-121.75463</td>\n",
       "      <td>545.92</td>\n",
       "      <td>545.92</td>\n",
       "      <td>386.0</td>\n",
       "      <td>230.0</td>\n",
       "      <td>374.0</td>\n",
       "    </tr>\n",
       "    <tr>\n",
       "      <th>5</th>\n",
       "      <td>2021</td>\n",
       "      <td>320000N1140000W001</td>\n",
       "      <td>412.0</td>\n",
       "      <td>133.92</td>\n",
       "      <td>545.92</td>\n",
       "      <td>545.92</td>\n",
       "      <td>36.56048</td>\n",
       "      <td>-121.75463</td>\n",
       "      <td>545.92</td>\n",
       "      <td>545.92</td>\n",
       "      <td>386.0</td>\n",
       "      <td>230.0</td>\n",
       "      <td>374.0</td>\n",
       "    </tr>\n",
       "    <tr>\n",
       "      <th>6</th>\n",
       "      <td>2021</td>\n",
       "      <td>320000N1140000W001</td>\n",
       "      <td>410.0</td>\n",
       "      <td>135.92</td>\n",
       "      <td>545.92</td>\n",
       "      <td>545.92</td>\n",
       "      <td>36.56048</td>\n",
       "      <td>-121.75463</td>\n",
       "      <td>545.92</td>\n",
       "      <td>545.92</td>\n",
       "      <td>386.0</td>\n",
       "      <td>230.0</td>\n",
       "      <td>374.0</td>\n",
       "    </tr>\n",
       "    <tr>\n",
       "      <th>7</th>\n",
       "      <td>2021</td>\n",
       "      <td>320000N1140000W001</td>\n",
       "      <td>411.0</td>\n",
       "      <td>134.92</td>\n",
       "      <td>545.92</td>\n",
       "      <td>545.92</td>\n",
       "      <td>36.56048</td>\n",
       "      <td>-121.75463</td>\n",
       "      <td>545.92</td>\n",
       "      <td>545.92</td>\n",
       "      <td>386.0</td>\n",
       "      <td>230.0</td>\n",
       "      <td>374.0</td>\n",
       "    </tr>\n",
       "    <tr>\n",
       "      <th>8</th>\n",
       "      <td>2021</td>\n",
       "      <td>320000N1140000W001</td>\n",
       "      <td>411.0</td>\n",
       "      <td>134.92</td>\n",
       "      <td>545.92</td>\n",
       "      <td>545.92</td>\n",
       "      <td>36.56048</td>\n",
       "      <td>-121.75463</td>\n",
       "      <td>545.92</td>\n",
       "      <td>545.92</td>\n",
       "      <td>386.0</td>\n",
       "      <td>230.0</td>\n",
       "      <td>374.0</td>\n",
       "    </tr>\n",
       "    <tr>\n",
       "      <th>9</th>\n",
       "      <td>2021</td>\n",
       "      <td>320000N1140000W001</td>\n",
       "      <td>409.0</td>\n",
       "      <td>136.92</td>\n",
       "      <td>545.92</td>\n",
       "      <td>545.92</td>\n",
       "      <td>36.56048</td>\n",
       "      <td>-121.75463</td>\n",
       "      <td>545.92</td>\n",
       "      <td>545.92</td>\n",
       "      <td>386.0</td>\n",
       "      <td>230.0</td>\n",
       "      <td>374.0</td>\n",
       "    </tr>\n",
       "  </tbody>\n",
       "</table>\n",
       "</div>"
      ],
      "text/plain": [
       "   year           site_code  gse_gwe     gwe  wlm_gse  wlm_rpe  latitude  \\\n",
       "0  2023  320000N1140000W001    423.1  122.82   545.92   545.92  36.56048   \n",
       "1  2023  320000N1140000W001    383.5  162.42   545.92   545.92  36.56048   \n",
       "2  2023  320000N1140000W001    385.0  160.92   545.92   545.92  36.56048   \n",
       "3  2023  320000N1140000W001    377.0  168.92   545.92   545.92  36.56048   \n",
       "4  2023  320000N1140000W001    384.2  161.72   545.92   545.92  36.56048   \n",
       "5  2021  320000N1140000W001    412.0  133.92   545.92   545.92  36.56048   \n",
       "6  2021  320000N1140000W001    410.0  135.92   545.92   545.92  36.56048   \n",
       "7  2021  320000N1140000W001    411.0  134.92   545.92   545.92  36.56048   \n",
       "8  2021  320000N1140000W001    411.0  134.92   545.92   545.92  36.56048   \n",
       "9  2021  320000N1140000W001    409.0  136.92   545.92   545.92  36.56048   \n",
       "\n",
       "   longitude     gse     rpe  well_depth  p_top_prf_int  bot_prf_int  \n",
       "0 -121.75463  545.92  545.92       386.0          230.0        374.0  \n",
       "1 -121.75463  545.92  545.92       386.0          230.0        374.0  \n",
       "2 -121.75463  545.92  545.92       386.0          230.0        374.0  \n",
       "3 -121.75463  545.92  545.92       386.0          230.0        374.0  \n",
       "4 -121.75463  545.92  545.92       386.0          230.0        374.0  \n",
       "5 -121.75463  545.92  545.92       386.0          230.0        374.0  \n",
       "6 -121.75463  545.92  545.92       386.0          230.0        374.0  \n",
       "7 -121.75463  545.92  545.92       386.0          230.0        374.0  \n",
       "8 -121.75463  545.92  545.92       386.0          230.0        374.0  \n",
       "9 -121.75463  545.92  545.92       386.0          230.0        374.0  "
      ]
     },
     "execution_count": 34,
     "metadata": {},
     "output_type": "execute_result"
    }
   ],
   "source": [
    "conn = sqlite3.connect('Resources/Groundwater.db')\n",
    "query = \"SELECT * FROM vw_groundwater\"\n",
    "df = pd.read_sql_query(query, conn)\n",
    "conn.close()\n",
    "df.head(10)"
   ]
  },
  {
   "cell_type": "code",
   "execution_count": null,
   "id": "85e20721-6098-4895-b8af-a6fec378746c",
   "metadata": {},
   "outputs": [],
   "source": []
  }
 ],
 "metadata": {
  "kernelspec": {
   "display_name": "Python 3 (ipykernel)",
   "language": "python",
   "name": "python3"
  },
  "language_info": {
   "codemirror_mode": {
    "name": "ipython",
    "version": 3
   },
   "file_extension": ".py",
   "mimetype": "text/x-python",
   "name": "python",
   "nbconvert_exporter": "python",
   "pygments_lexer": "ipython3",
   "version": "3.11.5"
  }
 },
 "nbformat": 4,
 "nbformat_minor": 5
}
