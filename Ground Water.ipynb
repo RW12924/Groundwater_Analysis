{
 "cells": [
  {
   "cell_type": "code",
   "execution_count": 18,
   "id": "c278eb40-7552-4ac3-9761-4cb4d2303e20",
   "metadata": {
    "tags": []
   },
   "outputs": [
    {
     "name": "stderr",
     "output_type": "stream",
     "text": [
      "C:\\Users\\jerry\\AppData\\Local\\Temp\\ipykernel_896\\467753682.py:2: DtypeWarning: Columns (14) have mixed types. Specify dtype option on import or set low_memory=False.\n",
      "  df = pd.read_csv('measurements.csv')\n"
     ]
    }
   ],
   "source": [
    "import pandas as pd\n",
    "df = pd.read_csv('measurements.csv')"
   ]
  },
  {
   "cell_type": "code",
   "execution_count": 19,
   "id": "093751c4-d755-4f62-9f69-8191ede60d28",
   "metadata": {
    "tags": []
   },
   "outputs": [
    {
     "data": {
      "text/html": [
       "<div>\n",
       "<style scoped>\n",
       "    .dataframe tbody tr th:only-of-type {\n",
       "        vertical-align: middle;\n",
       "    }\n",
       "\n",
       "    .dataframe tbody tr th {\n",
       "        vertical-align: top;\n",
       "    }\n",
       "\n",
       "    .dataframe thead th {\n",
       "        text-align: right;\n",
       "    }\n",
       "</style>\n",
       "<table border=\"1\" class=\"dataframe\">\n",
       "  <thead>\n",
       "    <tr style=\"text-align: right;\">\n",
       "      <th></th>\n",
       "      <th>site_code</th>\n",
       "      <th>msmt_date</th>\n",
       "      <th>wlm_rpe</th>\n",
       "      <th>wlm_gse</th>\n",
       "      <th>gwe</th>\n",
       "      <th>gse_gwe</th>\n",
       "      <th>wlm_qa_desc</th>\n",
       "      <th>wlm_qa_detail</th>\n",
       "      <th>wlm_mthd_desc</th>\n",
       "      <th>wlm_acc_desc</th>\n",
       "      <th>wlm_org_name</th>\n",
       "      <th>coop_org_name</th>\n",
       "      <th>monitoring_program</th>\n",
       "      <th>source</th>\n",
       "      <th>msmt_cmt</th>\n",
       "    </tr>\n",
       "  </thead>\n",
       "  <tbody>\n",
       "    <tr>\n",
       "      <th>0</th>\n",
       "      <td>320000N1140000W001</td>\n",
       "      <td>2023-11-30 14:59:00</td>\n",
       "      <td>545.92</td>\n",
       "      <td>545.92</td>\n",
       "      <td>122.82</td>\n",
       "      <td>423.1</td>\n",
       "      <td>Good</td>\n",
       "      <td>NaN</td>\n",
       "      <td>Electric sounder measurement</td>\n",
       "      <td>0.01 Ft</td>\n",
       "      <td>Monterey Peninsula Water Management District</td>\n",
       "      <td>Monterey Peninsula Water Management District</td>\n",
       "      <td>VOLUNTARY</td>\n",
       "      <td>DWR_DISCRETE</td>\n",
       "      <td>test</td>\n",
       "    </tr>\n",
       "  </tbody>\n",
       "</table>\n",
       "</div>"
      ],
      "text/plain": [
       "            site_code            msmt_date  wlm_rpe  wlm_gse     gwe  gse_gwe  \\\n",
       "0  320000N1140000W001  2023-11-30 14:59:00   545.92   545.92  122.82    423.1   \n",
       "\n",
       "  wlm_qa_desc wlm_qa_detail                 wlm_mthd_desc wlm_acc_desc  \\\n",
       "0        Good           NaN  Electric sounder measurement      0.01 Ft   \n",
       "\n",
       "                                   wlm_org_name  \\\n",
       "0  Monterey Peninsula Water Management District   \n",
       "\n",
       "                                  coop_org_name monitoring_program  \\\n",
       "0  Monterey Peninsula Water Management District          VOLUNTARY   \n",
       "\n",
       "         source msmt_cmt  \n",
       "0  DWR_DISCRETE     test  "
      ]
     },
     "execution_count": 19,
     "metadata": {},
     "output_type": "execute_result"
    }
   ],
   "source": [
    "df.head(1)"
   ]
  },
  {
   "cell_type": "code",
   "execution_count": 23,
   "id": "7ef9061b-4837-4834-b994-a59092a672bf",
   "metadata": {
    "tags": []
   },
   "outputs": [],
   "source": [
    "df['year'] = df['msmt_date'].str[:4]\n",
    "df['year'] = df['year'].astype(int)\n",
    "year_counts = df.groupby('year').size()\n",
    "year_counts = year_counts.to_frame()\n",
    "year_counts = year_counts.reset_index()\n",
    "year_counts.columns = ['year', 'count']\n",
    "type(year_counts)"
   ]
  },
  {
   "cell_type": "code",
   "execution_count": 34,
   "id": "ae787875-7740-40e0-8c5b-42ddfed41d3a",
   "metadata": {
    "tags": []
   },
   "outputs": [
    {
     "name": "stdout",
     "output_type": "stream",
     "text": [
      "     year   count\n",
      "82   1980   24471\n",
      "83   1981   25394\n",
      "84   1982   23825\n",
      "85   1983   23846\n",
      "86   1984   28529\n",
      "87   1985   27052\n",
      "88   1986   26162\n",
      "89   1987   26413\n",
      "90   1988   27075\n",
      "91   1989   24913\n",
      "92   1990   27206\n",
      "93   1991   29863\n",
      "94   1992   30980\n",
      "95   1993   32654\n",
      "96   1994   35997\n",
      "97   1995   34714\n",
      "98   1996   35234\n",
      "99   1997   36861\n",
      "100  1998   37215\n",
      "101  1999   40559\n",
      "102  2000   42613\n",
      "103  2001   48691\n",
      "104  2002   56992\n",
      "105  2003   70044\n",
      "106  2004   77355\n",
      "107  2005   97648\n",
      "108  2006  112732\n",
      "109  2007  129679\n",
      "110  2008  147320\n",
      "111  2009  159948\n",
      "112  2010  159160\n",
      "113  2011  183397\n",
      "114  2012  196401\n",
      "115  2013  214358\n",
      "116  2014  203492\n",
      "117  2015  209361\n",
      "118  2016  216586\n",
      "119  2017  192183\n",
      "120  2018  219731\n",
      "121  2019  214383\n",
      "122  2020  253438\n"
     ]
    }
   ],
   "source": [
    "import pandas as pd\n",
    "year1 = 1980\n",
    "year2 = 2020\n",
    "print(year_counts[(year_counts['year'] >= year1) & (year_counts['year'] <= year2)])"
   ]
  },
  {
   "cell_type": "code",
   "execution_count": null,
   "id": "c71329b0-5a5c-425f-a945-7781137d32f5",
   "metadata": {},
   "outputs": [],
   "source": []
  }
 ],
 "metadata": {
  "kernelspec": {
   "display_name": "Python 3 (ipykernel)",
   "language": "python",
   "name": "python3"
  },
  "language_info": {
   "codemirror_mode": {
    "name": "ipython",
    "version": 3
   },
   "file_extension": ".py",
   "mimetype": "text/x-python",
   "name": "python",
   "nbconvert_exporter": "python",
   "pygments_lexer": "ipython3",
   "version": "3.11.5"
  }
 },
 "nbformat": 4,
 "nbformat_minor": 5
}
