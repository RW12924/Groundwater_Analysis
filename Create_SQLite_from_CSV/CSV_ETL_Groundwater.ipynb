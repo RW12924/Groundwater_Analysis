{
 "cells": [
  {
   "cell_type": "markdown",
   "id": "b364c61f-a698-4942-b3e5-8d51a3e9a65a",
   "metadata": {},
   "source": [
    "# Dependencies"
   ]
  },
  {
   "cell_type": "code",
   "execution_count": 1,
   "id": "dc50a1b4-c160-47aa-95e7-58b1af5562a0",
   "metadata": {
    "tags": []
   },
   "outputs": [],
   "source": [
    "import pandas as pd\n",
    "import sqlite3"
   ]
  },
  {
   "cell_type": "markdown",
   "id": "96766c90-c213-4d71-bebb-2952ff87596d",
   "metadata": {},
   "source": [
    "# Data Source\n",
    "https://data.cnra.ca.gov/dataset/periodic-groundwater-level-measurements"
   ]
  },
  {
   "cell_type": "markdown",
   "id": "594d9130-21f0-447e-a954-bd89b5afdff1",
   "metadata": {},
   "source": [
    "# CSV ETL"
   ]
  },
  {
   "cell_type": "markdown",
   "id": "2e9c5ec1-fe1d-4af0-b655-c2dda377dc48",
   "metadata": {},
   "source": [
    "### Import CSV's"
   ]
  },
  {
   "cell_type": "code",
   "execution_count": 4,
   "id": "8af89195-72e0-4969-90a3-a7a27d1ab546",
   "metadata": {
    "tags": []
   },
   "outputs": [
    {
     "name": "stderr",
     "output_type": "stream",
     "text": [
      "C:\\Users\\jerry\\AppData\\Local\\Temp\\ipykernel_6816\\1473397188.py:3: DtypeWarning: Columns (4) have mixed types. Specify dtype option on import or set low_memory=False.\n",
      "  stations_df = pd.read_csv('stations.csv')\n"
     ]
    }
   ],
   "source": [
    "#measurements_df = pd.read_csv('measurements.csv')\n",
    "#perforations_df = pd.read_csv('perforations.csv')\n",
    "stations_df = pd.read_csv('stations.csv')"
   ]
  },
  {
   "cell_type": "markdown",
   "id": "020fd1c8-5b9f-4789-9f4e-49728fd4f1a4",
   "metadata": {},
   "source": [
    "### Create year, month and day columns"
   ]
  },
  {
   "cell_type": "code",
   "execution_count": 5,
   "id": "3f816c7b-4da5-4d09-a911-587737d3dcc3",
   "metadata": {
    "tags": []
   },
   "outputs": [],
   "source": [
    "measurements_df['year'] = measurements_df['msmt_date'].str.slice(0, 4).astype(int)\n",
    "measurements_df['month'] = measurements_df['msmt_date'].str.slice(5, 7).astype(int)\n",
    "measurements_df['day'] = measurements_df['msmt_date'].str.slice(8, 10).astype(int)"
   ]
  },
  {
   "cell_type": "markdown",
   "id": "0097d979-4119-40b8-9b0c-af01c83ed018",
   "metadata": {},
   "source": [
    "### Export CSV datasets to SQLite"
   ]
  },
  {
   "cell_type": "code",
   "execution_count": 6,
   "id": "040d2b82-60c0-4bfb-8dcc-7e1d96c6ead3",
   "metadata": {
    "tags": []
   },
   "outputs": [],
   "source": [
    "conn = sqlite3.connect('Groundwater_DB.db')\n",
    "\n",
    "# Measurements\n",
    "measurements_df.to_sql('Measurements', conn, if_exists='replace', index=False)\n",
    "\n",
    "# Stations\n",
    "stations_df.to_sql('Stations', conn, if_exists='replace', index=False)\n",
    "\n",
    "# Perforations\n",
    "perforations_df.to_sql('Perforations', conn, if_exists='replace', index=False)\n",
    "\n",
    "conn.close()"
   ]
  },
  {
   "cell_type": "markdown",
   "id": "eafb8a38-9fed-48fa-bc20-e9f0f9a1c35a",
   "metadata": {},
   "source": [
    "### Create view that combines Measurments, Stations and Perforations"
   ]
  },
  {
   "cell_type": "code",
   "execution_count": 7,
   "id": "09f8f4e2-6c1f-4cdb-87d6-992a141fb558",
   "metadata": {
    "tags": []
   },
   "outputs": [],
   "source": [
    "conn = sqlite3.connect('Groundwater_DB.db')\n",
    "cursor = conn.cursor()\n",
    "create_view_sql = \"\"\"\n",
    "CREATE VIEW vw_groundwater AS\n",
    "SELECT \n",
    "    M.year,\n",
    "    M.site_code,\n",
    "    M.gse_gwe,\n",
    "    M.gwe,\n",
    "    M.wlm_gse,\n",
    "    M.wlm_rpe,\n",
    "    S.latitude,\n",
    "    S.longitude,\n",
    "    S.gse,\n",
    "    S.rpe,\n",
    "    S.well_depth,\n",
    "    P.top_prf_int AS p_top_prf_int,  -- Alias to avoid column name conflict\n",
    "    P.bot_prf_int\n",
    "FROM \n",
    "    Measurements M\n",
    "LEFT JOIN \n",
    "    Stations S ON M.site_code = S.site_code\n",
    "LEFT JOIN \n",
    "    Perforations P ON M.site_code = P.site_code;\n",
    "\"\"\"\n",
    "cursor.execute(create_view_sql)\n",
    "conn.commit()\n",
    "conn.close()"
   ]
  },
  {
   "cell_type": "markdown",
   "id": "4c588689-8f35-4d15-81dc-149405e79453",
   "metadata": {
    "tags": []
   },
   "source": [
    "### Query SQLite Database vw_groundwater view"
   ]
  },
  {
   "cell_type": "code",
   "execution_count": 9,
   "id": "7f8da712-5048-4534-bc26-2c4f852cafeb",
   "metadata": {
    "tags": []
   },
   "outputs": [
    {
     "data": {
      "text/html": [
       "<div>\n",
       "<style scoped>\n",
       "    .dataframe tbody tr th:only-of-type {\n",
       "        vertical-align: middle;\n",
       "    }\n",
       "\n",
       "    .dataframe tbody tr th {\n",
       "        vertical-align: top;\n",
       "    }\n",
       "\n",
       "    .dataframe thead th {\n",
       "        text-align: right;\n",
       "    }\n",
       "</style>\n",
       "<table border=\"1\" class=\"dataframe\">\n",
       "  <thead>\n",
       "    <tr style=\"text-align: right;\">\n",
       "      <th></th>\n",
       "      <th>year</th>\n",
       "      <th>site_code</th>\n",
       "      <th>gse_gwe</th>\n",
       "      <th>gwe</th>\n",
       "      <th>wlm_gse</th>\n",
       "      <th>wlm_rpe</th>\n",
       "      <th>latitude</th>\n",
       "      <th>longitude</th>\n",
       "      <th>gse</th>\n",
       "      <th>rpe</th>\n",
       "      <th>well_depth</th>\n",
       "      <th>p_top_prf_int</th>\n",
       "      <th>bot_prf_int</th>\n",
       "    </tr>\n",
       "  </thead>\n",
       "  <tbody>\n",
       "    <tr>\n",
       "      <th>0</th>\n",
       "      <td>2023</td>\n",
       "      <td>320000N1140000W001</td>\n",
       "      <td>423.1</td>\n",
       "      <td>122.82</td>\n",
       "      <td>545.92</td>\n",
       "      <td>545.92</td>\n",
       "      <td>36.56048</td>\n",
       "      <td>-121.75463</td>\n",
       "      <td>545.92</td>\n",
       "      <td>545.92</td>\n",
       "      <td>386.0</td>\n",
       "      <td>230.0</td>\n",
       "      <td>374.0</td>\n",
       "    </tr>\n",
       "    <tr>\n",
       "      <th>1</th>\n",
       "      <td>2023</td>\n",
       "      <td>320000N1140000W001</td>\n",
       "      <td>383.5</td>\n",
       "      <td>162.42</td>\n",
       "      <td>545.92</td>\n",
       "      <td>545.92</td>\n",
       "      <td>36.56048</td>\n",
       "      <td>-121.75463</td>\n",
       "      <td>545.92</td>\n",
       "      <td>545.92</td>\n",
       "      <td>386.0</td>\n",
       "      <td>230.0</td>\n",
       "      <td>374.0</td>\n",
       "    </tr>\n",
       "    <tr>\n",
       "      <th>2</th>\n",
       "      <td>2023</td>\n",
       "      <td>320000N1140000W001</td>\n",
       "      <td>385.0</td>\n",
       "      <td>160.92</td>\n",
       "      <td>545.92</td>\n",
       "      <td>545.92</td>\n",
       "      <td>36.56048</td>\n",
       "      <td>-121.75463</td>\n",
       "      <td>545.92</td>\n",
       "      <td>545.92</td>\n",
       "      <td>386.0</td>\n",
       "      <td>230.0</td>\n",
       "      <td>374.0</td>\n",
       "    </tr>\n",
       "    <tr>\n",
       "      <th>3</th>\n",
       "      <td>2023</td>\n",
       "      <td>320000N1140000W001</td>\n",
       "      <td>377.0</td>\n",
       "      <td>168.92</td>\n",
       "      <td>545.92</td>\n",
       "      <td>545.92</td>\n",
       "      <td>36.56048</td>\n",
       "      <td>-121.75463</td>\n",
       "      <td>545.92</td>\n",
       "      <td>545.92</td>\n",
       "      <td>386.0</td>\n",
       "      <td>230.0</td>\n",
       "      <td>374.0</td>\n",
       "    </tr>\n",
       "    <tr>\n",
       "      <th>4</th>\n",
       "      <td>2023</td>\n",
       "      <td>320000N1140000W001</td>\n",
       "      <td>384.2</td>\n",
       "      <td>161.72</td>\n",
       "      <td>545.92</td>\n",
       "      <td>545.92</td>\n",
       "      <td>36.56048</td>\n",
       "      <td>-121.75463</td>\n",
       "      <td>545.92</td>\n",
       "      <td>545.92</td>\n",
       "      <td>386.0</td>\n",
       "      <td>230.0</td>\n",
       "      <td>374.0</td>\n",
       "    </tr>\n",
       "    <tr>\n",
       "      <th>5</th>\n",
       "      <td>2021</td>\n",
       "      <td>320000N1140000W001</td>\n",
       "      <td>412.0</td>\n",
       "      <td>133.92</td>\n",
       "      <td>545.92</td>\n",
       "      <td>545.92</td>\n",
       "      <td>36.56048</td>\n",
       "      <td>-121.75463</td>\n",
       "      <td>545.92</td>\n",
       "      <td>545.92</td>\n",
       "      <td>386.0</td>\n",
       "      <td>230.0</td>\n",
       "      <td>374.0</td>\n",
       "    </tr>\n",
       "    <tr>\n",
       "      <th>6</th>\n",
       "      <td>2021</td>\n",
       "      <td>320000N1140000W001</td>\n",
       "      <td>410.0</td>\n",
       "      <td>135.92</td>\n",
       "      <td>545.92</td>\n",
       "      <td>545.92</td>\n",
       "      <td>36.56048</td>\n",
       "      <td>-121.75463</td>\n",
       "      <td>545.92</td>\n",
       "      <td>545.92</td>\n",
       "      <td>386.0</td>\n",
       "      <td>230.0</td>\n",
       "      <td>374.0</td>\n",
       "    </tr>\n",
       "    <tr>\n",
       "      <th>7</th>\n",
       "      <td>2021</td>\n",
       "      <td>320000N1140000W001</td>\n",
       "      <td>411.0</td>\n",
       "      <td>134.92</td>\n",
       "      <td>545.92</td>\n",
       "      <td>545.92</td>\n",
       "      <td>36.56048</td>\n",
       "      <td>-121.75463</td>\n",
       "      <td>545.92</td>\n",
       "      <td>545.92</td>\n",
       "      <td>386.0</td>\n",
       "      <td>230.0</td>\n",
       "      <td>374.0</td>\n",
       "    </tr>\n",
       "    <tr>\n",
       "      <th>8</th>\n",
       "      <td>2021</td>\n",
       "      <td>320000N1140000W001</td>\n",
       "      <td>411.0</td>\n",
       "      <td>134.92</td>\n",
       "      <td>545.92</td>\n",
       "      <td>545.92</td>\n",
       "      <td>36.56048</td>\n",
       "      <td>-121.75463</td>\n",
       "      <td>545.92</td>\n",
       "      <td>545.92</td>\n",
       "      <td>386.0</td>\n",
       "      <td>230.0</td>\n",
       "      <td>374.0</td>\n",
       "    </tr>\n",
       "    <tr>\n",
       "      <th>9</th>\n",
       "      <td>2021</td>\n",
       "      <td>320000N1140000W001</td>\n",
       "      <td>409.0</td>\n",
       "      <td>136.92</td>\n",
       "      <td>545.92</td>\n",
       "      <td>545.92</td>\n",
       "      <td>36.56048</td>\n",
       "      <td>-121.75463</td>\n",
       "      <td>545.92</td>\n",
       "      <td>545.92</td>\n",
       "      <td>386.0</td>\n",
       "      <td>230.0</td>\n",
       "      <td>374.0</td>\n",
       "    </tr>\n",
       "  </tbody>\n",
       "</table>\n",
       "</div>"
      ],
      "text/plain": [
       "   year           site_code  gse_gwe     gwe  wlm_gse  wlm_rpe  latitude  \\\n",
       "0  2023  320000N1140000W001    423.1  122.82   545.92   545.92  36.56048   \n",
       "1  2023  320000N1140000W001    383.5  162.42   545.92   545.92  36.56048   \n",
       "2  2023  320000N1140000W001    385.0  160.92   545.92   545.92  36.56048   \n",
       "3  2023  320000N1140000W001    377.0  168.92   545.92   545.92  36.56048   \n",
       "4  2023  320000N1140000W001    384.2  161.72   545.92   545.92  36.56048   \n",
       "5  2021  320000N1140000W001    412.0  133.92   545.92   545.92  36.56048   \n",
       "6  2021  320000N1140000W001    410.0  135.92   545.92   545.92  36.56048   \n",
       "7  2021  320000N1140000W001    411.0  134.92   545.92   545.92  36.56048   \n",
       "8  2021  320000N1140000W001    411.0  134.92   545.92   545.92  36.56048   \n",
       "9  2021  320000N1140000W001    409.0  136.92   545.92   545.92  36.56048   \n",
       "\n",
       "   longitude     gse     rpe  well_depth  p_top_prf_int  bot_prf_int  \n",
       "0 -121.75463  545.92  545.92       386.0          230.0        374.0  \n",
       "1 -121.75463  545.92  545.92       386.0          230.0        374.0  \n",
       "2 -121.75463  545.92  545.92       386.0          230.0        374.0  \n",
       "3 -121.75463  545.92  545.92       386.0          230.0        374.0  \n",
       "4 -121.75463  545.92  545.92       386.0          230.0        374.0  \n",
       "5 -121.75463  545.92  545.92       386.0          230.0        374.0  \n",
       "6 -121.75463  545.92  545.92       386.0          230.0        374.0  \n",
       "7 -121.75463  545.92  545.92       386.0          230.0        374.0  \n",
       "8 -121.75463  545.92  545.92       386.0          230.0        374.0  \n",
       "9 -121.75463  545.92  545.92       386.0          230.0        374.0  "
      ]
     },
     "execution_count": 9,
     "metadata": {},
     "output_type": "execute_result"
    }
   ],
   "source": [
    "conn = sqlite3.connect('Groundwater_DB.db')\n",
    "query = \"SELECT * FROM vw_groundwater LIMIT 10\"\n",
    "df = pd.read_sql_query(query, conn)\n",
    "conn.close()\n",
    "df.head(10)"
   ]
  }
 ],
 "metadata": {
  "kernelspec": {
   "display_name": "Python 3 (ipykernel)",
   "language": "python",
   "name": "python3"
  },
  "language_info": {
   "codemirror_mode": {
    "name": "ipython",
    "version": 3
   },
   "file_extension": ".py",
   "mimetype": "text/x-python",
   "name": "python",
   "nbconvert_exporter": "python",
   "pygments_lexer": "ipython3",
   "version": "3.11.5"
  }
 },
 "nbformat": 4,
 "nbformat_minor": 5
}
